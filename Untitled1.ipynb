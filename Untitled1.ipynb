{
 "cells": [
  {
   "cell_type": "code",
   "execution_count": null,
   "id": "b7e15ce7",
   "metadata": {
    "ExecuteTime": {
     "end_time": "2024-11-20T05:50:54.539341Z",
     "start_time": "2024-11-20T05:50:54.360861Z"
    }
   },
   "outputs": [],
   "source": [
    "from sklearn.ensemble import GradientBoostingClassifier\n",
    "from sklearn.tree import export_graphviz\n",
    "import numpy as np\n",
    "\n",
    "# Ficticuous data\n",
    "np.random.seed(0)\n",
    "X = np.random.normal(0,1,(1000, 3))\n",
    "y = X[:,0]+X[:,1]*X[:,2] > 0\n",
    "\n",
    "# Classifier\n",
    "clf = GradientBoostingClassifier(max_depth=3, random_state=0)\n",
    "clf.fit(X[:600], y[:600])\n",
    "\n",
    "# Get the tree number 42\n",
    "sub_tree_42 = clf.estimators_[42, 0]\n",
    "\n",
    "# Visualization\n",
    "# Install graphviz: https://www.graphviz.org/download/\n",
    "from pydotplus import graph_from_dot_data\n",
    "from IPython.display import Image\n",
    "dot_data = export_graphviz(\n",
    "    sub_tree_42,\n",
    "    out_file=None, filled=True, rounded=True,\n",
    "    special_characters=True,\n",
    "    proportion=False, impurity=False, # enable them if you want\n",
    ")\n",
    "graph = graph_from_dot_data(dot_data)\n",
    "png = graph.create_png()\n",
    "# Save (optional)\n",
    "from pathlib import Path\n",
    "Path('./out.png').write_bytes(png)\n",
    "# Display\n",
    "Image(png)"
   ]
  },
  {
   "cell_type": "code",
   "execution_count": null,
   "id": "8dfe4ced",
   "metadata": {
    "ExecuteTime": {
     "end_time": "2024-11-20T05:44:23.938067Z",
     "start_time": "2024-11-20T05:44:23.118284Z"
    }
   },
   "outputs": [],
   "source": [
    "from sklearn.ensemble import GradientBoostingClassifier\n",
    "import numpy as np\n",
    "from dtreeviz.trees import *\n",
    "\n",
    "# Ficticuous data\n",
    "np.random.seed(0)\n",
    "X = np.random.normal(0,1,(1000, 3))\n",
    "y = X[:,0]+X[:,1]*X[:,2] > 0\n",
    "\n",
    "# Classifier\n",
    "clf = GradientBoostingClassifier(max_depth=3, random_state=0)\n",
    "clf.fit(X[:600], y[:600])\n",
    "\n",
    "# Get the tree number 42\n",
    "sub_tree_42 = clf.estimators_[42, 0]\n",
    "\n",
    "# Visualization\n",
    "viz = dtreeviz(sub_tree_42,\n",
    "               x_data=X,\n",
    "               y_data=y,\n",
    "               target_name='Positive',\n",
    "               feature_names=['X0', 'X1', 'X2'],\n",
    "               class_names=['Negative', 'Positive'],\n",
    "               title='Tree 42 visualization')\n",
    "\n",
    "viz.save(\"tree_visualization.svg\") \n",
    "viz.view()"
   ]
  }
 ],
 "metadata": {
  "kernelspec": {
   "display_name": "Python 3 (ipykernel)",
   "language": "python",
   "name": "python3"
  },
  "language_info": {
   "codemirror_mode": {
    "name": "ipython",
    "version": 3
   },
   "file_extension": ".py",
   "mimetype": "text/x-python",
   "name": "python",
   "nbconvert_exporter": "python",
   "pygments_lexer": "ipython3",
   "version": "3.9.13"
  }
 },
 "nbformat": 4,
 "nbformat_minor": 5
}
